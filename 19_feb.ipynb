{
  "nbformat": 4,
  "nbformat_minor": 0,
  "metadata": {
    "colab": {
      "provenance": [],
      "authorship_tag": "ABX9TyOoXvrX/zQ1FFFRSzEAhzPr",
      "include_colab_link": true
    },
    "kernelspec": {
      "name": "python3",
      "display_name": "Python 3"
    },
    "language_info": {
      "name": "python"
    }
  },
  "cells": [
    {
      "cell_type": "markdown",
      "metadata": {
        "id": "view-in-github",
        "colab_type": "text"
      },
      "source": [
        "<a href=\"https://colab.research.google.com/github/Rahul-phyton-code/flask-/blob/main/19_feb.ipynb\" target=\"_parent\"><img src=\"https://colab.research.google.com/assets/colab-badge.svg\" alt=\"Open In Colab\"/></a>"
      ]
    },
    {
      "cell_type": "markdown",
      "source": [
        "1.) Flask is a micro web framework written in Python.Flask allows you to build a web application by providing tools, libraries, and technologies. This web application will be a web page, a wiki, or a big web-based calendar application or commercial website. \n",
        "\n",
        "Advantage of flask-\n",
        "a.)It is a lightweight framework that offers hassle-free development\n",
        "b.)Provide flexibility to the developer to experiment with their modules or architecture\n",
        "c.)It is suitable for small projects\n",
        "d.)Offers a built-in development server and fast debugger\n",
        "e.)Easily scalable for the applications\n",
        "f.)Support for secure cookies\n",
        "g.)Uses Ninja2 Template engine\n",
        "h.)It has integrated support for unit testing\n",
        "i.)APIs are coherent and neat\n",
        "j.)Provide strong WSGI support"
      ],
      "metadata": {
        "id": "8SpXxmIGrxsI"
      }
    },
    {
      "cell_type": "markdown",
      "source": [
        "2.)"
      ],
      "metadata": {
        "id": "W-YDuUsds2k6"
      }
    },
    {
      "cell_type": "code",
      "source": [
        "pip install flask"
      ],
      "metadata": {
        "colab": {
          "base_uri": "https://localhost:8080/"
        },
        "id": "bmtmof0PtDYi",
        "outputId": "ed5c1224-5ba9-40f6-891c-3e2f9498d5d3"
      },
      "execution_count": 1,
      "outputs": [
        {
          "output_type": "stream",
          "name": "stdout",
          "text": [
            "Looking in indexes: https://pypi.org/simple, https://us-python.pkg.dev/colab-wheels/public/simple/\n",
            "Requirement already satisfied: flask in /usr/local/lib/python3.10/dist-packages (2.2.4)\n",
            "Requirement already satisfied: Werkzeug>=2.2.2 in /usr/local/lib/python3.10/dist-packages (from flask) (2.3.0)\n",
            "Requirement already satisfied: itsdangerous>=2.0 in /usr/local/lib/python3.10/dist-packages (from flask) (2.1.2)\n",
            "Requirement already satisfied: click>=8.0 in /usr/local/lib/python3.10/dist-packages (from flask) (8.1.3)\n",
            "Requirement already satisfied: Jinja2>=3.0 in /usr/local/lib/python3.10/dist-packages (from flask) (3.1.2)\n",
            "Requirement already satisfied: MarkupSafe>=2.0 in /usr/local/lib/python3.10/dist-packages (from Jinja2>=3.0->flask) (2.1.2)\n"
          ]
        }
      ]
    },
    {
      "cell_type": "code",
      "execution_count": 2,
      "metadata": {
        "id": "1i-crzj7rUbz",
        "colab": {
          "base_uri": "https://localhost:8080/"
        },
        "outputId": "6fa161cb-75fa-4e9d-94fd-3e71b1b12852"
      },
      "outputs": [
        {
          "output_type": "stream",
          "name": "stdout",
          "text": [
            " * Serving Flask app '__main__'\n",
            " * Debug mode: off\n"
          ]
        },
        {
          "output_type": "stream",
          "name": "stderr",
          "text": [
            "INFO:werkzeug:\u001b[31m\u001b[1mWARNING: This is a development server. Do not use it in a production deployment. Use a production WSGI server instead.\u001b[0m\n",
            " * Running on all addresses (0.0.0.0)\n",
            " * Running on http://127.0.0.1:5000\n",
            " * Running on http://172.28.0.12:5000\n",
            "INFO:werkzeug:\u001b[33mPress CTRL+C to quit\u001b[0m\n"
          ]
        }
      ],
      "source": [
        "\n",
        "from flask import Flask\n",
        "\n",
        "app = Flask(__name__)\n",
        "\n",
        "@app.route(\"/\")\n",
        "def hello_world():\n",
        "    return \"<h1>Hello, World!</h1>\"\n",
        "\n",
        "if __name__==\"__main__\":\n",
        "    app.run(host=\"0.0.0.0\")"
      ]
    },
    {
      "cell_type": "markdown",
      "source": [
        "3.) App routing is the technique used to map the specific URL with the associated function intended to perform some task. The Latest Web frameworks use the routing technique to help users remember application URLs. It is helpful to access the desired page directly without navigating from the home page.\n",
        "     Modern web frameworks use the routing technique to help a user remember application URLs."
      ],
      "metadata": {
        "id": "tEanpZwduqlI"
      }
    },
    {
      "cell_type": "markdown",
      "source": [
        "4.)"
      ],
      "metadata": {
        "id": "igK8cczyz2J3"
      }
    },
    {
      "cell_type": "code",
      "source": [
        "from flask import Flask\n",
        "\n",
        "app = Flask(__name__)\n",
        "@app.route(\"/welcome\")\n",
        "def hello_world():\n",
        "    return \"<h1>Welcome to ABC Corporation</h1>\"    \n",
        "\n",
        "if __name__==\"__main__\":\n",
        "    app.run(host=\"0.0.0.0\")"
      ],
      "metadata": {
        "colab": {
          "base_uri": "https://localhost:8080/"
        },
        "id": "KRICCWYIwyij",
        "outputId": "081c59e4-9eaa-4f93-c5a9-0eadd8de129e"
      },
      "execution_count": null,
      "outputs": [
        {
          "output_type": "stream",
          "name": "stdout",
          "text": [
            " * Serving Flask app '__main__'\n",
            " * Debug mode: off\n"
          ]
        },
        {
          "output_type": "stream",
          "name": "stderr",
          "text": [
            "INFO:werkzeug:\u001b[31m\u001b[1mWARNING: This is a development server. Do not use it in a production deployment. Use a production WSGI server instead.\u001b[0m\n",
            " * Running on all addresses (0.0.0.0)\n",
            " * Running on http://127.0.0.1:5000\n",
            " * Running on http://172.28.0.12:5000\n",
            "INFO:werkzeug:\u001b[33mPress CTRL+C to quit\u001b[0m\n"
          ]
        }
      ]
    },
    {
      "cell_type": "markdown",
      "source": [
        "5.) The url_for() function is very useful for dynamically building a URL for a specific function."
      ],
      "metadata": {
        "id": "2ApwcCC8z466"
      }
    },
    {
      "cell_type": "code",
      "source": [
        "from flask import Flask, redirect, url_for\n",
        "app = Flask(__name__)\n",
        "\n",
        "@app.route('/admin')\n",
        "def hello_admin():\n",
        "   return 'Hello Admin'\n",
        "\n",
        "@app.route('/guest/<guest>')\n",
        "def hello_guest(guest):\n",
        "   return 'Hello %s as Guest' % guest\n",
        "\n",
        "@app.route('/user/<name>')\n",
        "def hello_user(name):\n",
        "   if name =='admin':\n",
        "      return redirect(url_for('hello_admin'))\n",
        "   else:\n",
        "      return redirect(url_for('hello_guest',guest = name))\n",
        "\n",
        "if __name__ == '__main__':\n",
        "   app.run(debug = True)"
      ],
      "metadata": {
        "id": "iMdkffQC2iJq"
      },
      "execution_count": null,
      "outputs": []
    }
  ]
}